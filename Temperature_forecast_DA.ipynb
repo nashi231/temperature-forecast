{
 "cells": [
  {
   "cell_type": "code",
   "execution_count": 1,
   "id": "9ee12882",
   "metadata": {},
   "outputs": [],
   "source": [
    "#importing required libraries\n",
    "\n",
    "import pandas as pd\n",
    "import numpy as np\n",
    "import statsmodels.api as sm\n",
    "import warnings\n",
    "\n",
    "from math import sqrt\n",
    "from matplotlib import pyplot\n",
    "\n",
    "from sklearn.metrics import mean_squared_error\n",
    "from statsmodels.tsa.arima_model import ARIMA\n",
    "from statsmodels.tsa.ar_model import AutoReg\n",
    "from pmdarima import auto_arima\n",
    "\n",
    "from statsmodels.tsa.api import VAR, VARMAX\n",
    "from statsmodels.tsa.stattools  import   grangercausalitytests, adfuller\n",
    "from statsmodels.graphics.tsaplots import plot_pacf, plot_acf"
   ]
  },
  {
   "cell_type": "code",
   "execution_count": 3,
   "id": "a1c22589",
   "metadata": {},
   "outputs": [],
   "source": [
    "#importing data\n",
    "data0=pd.read_csv(r'DailyDelhiClimate.csv', index_col=0,parse_dates=True)\n",
    "x0=data0[\"meantemp\"].values\n"
   ]
  },
  {
   "cell_type": "code",
   "execution_count": 4,
   "id": "d9775692",
   "metadata": {},
   "outputs": [
    {
     "name": "stdout",
     "output_type": "stream",
     "text": [
      "0.148825015640405\n"
     ]
    }
   ],
   "source": [
    "\n",
    "#checking for stationarity\n",
    "\n",
    "adfullertest=adfuller(data0['meantemp'], autolag='AIC')\n",
    "pvalue=adfullertest[1]\n",
    "print(pvalue)\n"
   ]
  },
  {
   "cell_type": "code",
   "execution_count": 5,
   "id": "3c768dac",
   "metadata": {},
   "outputs": [
    {
     "name": "stderr",
     "output_type": "stream",
     "text": [
      "C:\\Users\\nashi\\anaconda3\\lib\\site-packages\\statsmodels\\graphics\\tsaplots.py:348: FutureWarning: The default method 'yw' can produce PACF values outside of the [-1,1] interval. After 0.13, the default will change tounadjusted Yule-Walker ('ywm'). You can use this method now by setting method='ywm'.\n",
      "  warnings.warn(\n"
     ]
    },
    {
     "data": {
      "image/png": "[encoded data removed]",
      "text/plain": [
       "<Figure size 432x288 with 1 Axes>"
      ]
     },
     "metadata": {
      "needs_background": "light"
     },
     "output_type": "display_data"
    },
    {
     "data": {
      "image/png": "[encoded data removed]",
      "text/plain": [
       "<Figure size 432x288 with 1 Axes>"
      ]
     },
     "metadata": {
      "needs_background": "light"
     },
     "output_type": "display_data"
    }
   ],
   "source": [
    "#Figuring out the best number of lags to consider\n",
    "\n",
    "pacf=plot_pacf(data0['meantemp'],lags=25)\n",
    "acf=plot_acf(data0['meantemp'],lags=25)\n"
   ]
  },
  {
   "cell_type": "code",
   "execution_count": 6,
   "id": "c5fa8748",
   "metadata": {},
   "outputs": [],
   "source": [
    "#Training and testing sets\n",
    "train0=data0.iloc[:len(x0)-7,0]\n",
    "test0=data0.iloc[len(x0)-7:,0]\n"
   ]
  },
  {
   "cell_type": "code",
   "execution_count": 7,
   "id": "c6f04780",
   "metadata": {},
   "outputs": [
    {
     "name": "stdout",
     "output_type": "stream",
     "text": [
      "                            AutoReg Model Results                             \n",
      "==============================================================================\n",
      "Dep. Variable:               meantemp   No. Observations:                 1568\n",
      "Model:                     AutoReg(4)   Log Likelihood               -2971.394\n",
      "Method:               Conditional MLE   S.D. of innovations              1.618\n",
      "Date:                Thu, 29 Aug 2024   AIC                           5954.788\n",
      "Time:                        16:43:46   BIC                           5986.918\n",
      "Sample:                    01-05-2013   HQIC                          5966.733\n",
      "                         - 04-17-2017                                         \n",
      "===============================================================================\n",
      "                  coef    std err          z      P>|z|      [0.025      0.975]\n",
      "-------------------------------------------------------------------------------\n",
      "const           0.5146      0.149      3.458      0.001       0.223       0.806\n",
      "meantemp.L1     0.8052      0.025     32.156      0.000       0.756       0.854\n",
      "meantemp.L2     0.0637      0.032      1.974      0.048       0.000       0.127\n",
      "meantemp.L3    -0.0291      0.032     -0.901      0.368      -0.092       0.034\n",
      "meantemp.L4     0.1406      0.025      5.629      0.000       0.092       0.190\n",
      "                                    Roots                                    \n",
      "=============================================================================\n",
      "                  Real          Imaginary           Modulus         Frequency\n",
      "-----------------------------------------------------------------------------\n",
      "AR.1            1.0138           -0.0000j            1.0138           -0.0000\n",
      "AR.2           -1.9698           -0.0000j            1.9698           -0.5000\n",
      "AR.3            0.5813           -1.7953j            1.8871           -0.2002\n",
      "AR.4            0.5813           +1.7953j            1.8871            0.2002\n",
      "-----------------------------------------------------------------------------\n"
     ]
    },
    {
     "name": "stderr",
     "output_type": "stream",
     "text": [
      "C:\\Users\\nashi\\anaconda3\\lib\\site-packages\\statsmodels\\tsa\\base\\tsa_model.py:471: ValueWarning: No frequency information was provided, so inferred frequency D will be used.\n",
      "  self._init_dates(dates, freq)\n"
     ]
    }
   ],
   "source": [
    "#training the data\n",
    "\n",
    "model0=AutoReg(train0,lags=4).fit()\n",
    "print(model0.summary())\n"
   ]
  },
  {
   "cell_type": "code",
   "execution_count": 8,
   "id": "094120be",
   "metadata": {},
   "outputs": [
    {
     "name": "stderr",
     "output_type": "stream",
     "text": [
      "C:\\Users\\nashi\\anaconda3\\lib\\site-packages\\statsmodels\\tsa\\deterministic.py:302: UserWarning: Only PeriodIndexes, DatetimeIndexes with a frequency set, RangesIndexes, and Index with a unit increment support extending. The index is set will contain the position relative to the data length.\n",
      "  fcast_index = self._extend_index(index, steps, forecast_index)\n"
     ]
    },
    {
     "data": {
      "text/plain": [
       "[<matplotlib.lines.Line2D at 0x23d2c611910>]"
      ]
     },
     "execution_count": 8,
     "metadata": {},
     "output_type": "execute_result"
    },
    {
     "data": {
      "image/png": "[encoded data removed]",
      "text/plain": [
       "<Figure size 432x288 with 1 Axes>"
      ]
     },
     "metadata": {
      "needs_background": "light"
     },
     "output_type": "display_data"
    }
   ],
   "source": [
    "#predicting\n",
    "\n",
    "pred0=model0.predict(start=len(train0),end=len(x0)-1,dynamic=False)\n",
    "pyplot.plot(pred0,color='red')\n",
    "pyplot.plot(test0,color='green')\n"
   ]
  },
  {
   "cell_type": "code",
   "execution_count": 35,
   "id": "0d7fda6c",
   "metadata": {},
   "outputs": [
    {
     "name": "stdout",
     "output_type": "stream",
     "text": [
      "1.86479379733119\n"
     ]
    }
   ],
   "source": [
    "#calculating the root sqared mean error and mean to analyze the accuracy of the model\n",
    "\n",
    "R0=sqrt(mean_squared_error(pred0,test0))\n",
    "print(R0)\n"
   ]
  },
  {
   "cell_type": "code",
   "execution_count": 11,
   "id": "7b719c97",
   "metadata": {},
   "outputs": [],
   "source": [
    "x=data0[\"meantemp\"].values\n"
   ]
  },
  {
   "cell_type": "code",
   "execution_count": 13,
   "id": "4a68cded",
   "metadata": {},
   "outputs": [
    {
     "name": "stdout",
     "output_type": "stream",
     "text": [
      "Performing stepwise search to minimize aic\n",
      " ARIMA(2,0,2)(0,0,0)[0] intercept   : AIC=5981.718, Time=1.13 sec\n",
      " ARIMA(0,0,0)(0,0,0)[0] intercept   : AIC=10750.521, Time=0.03 sec\n",
      " ARIMA(1,0,0)(0,0,0)[0] intercept   : AIC=6070.450, Time=0.20 sec\n",
      " ARIMA(0,0,1)(0,0,0)[0] intercept   : AIC=9113.459, Time=0.28 sec\n",
      " ARIMA(0,0,0)(0,0,0)[0]             : AIC=14767.938, Time=0.03 sec\n",
      " ARIMA(1,0,2)(0,0,0)[0] intercept   : AIC=6008.809, Time=0.49 sec\n",
      " ARIMA(2,0,1)(0,0,0)[0] intercept   : AIC=5979.872, Time=0.74 sec\n",
      " ARIMA(1,0,1)(0,0,0)[0] intercept   : AIC=6030.395, Time=0.35 sec\n",
      " ARIMA(2,0,0)(0,0,0)[0] intercept   : AIC=6039.023, Time=0.32 sec\n",
      " ARIMA(3,0,1)(0,0,0)[0] intercept   : AIC=5981.684, Time=1.29 sec\n",
      " ARIMA(3,0,0)(0,0,0)[0] intercept   : AIC=6029.232, Time=0.45 sec\n",
      " ARIMA(3,0,2)(0,0,0)[0] intercept   : AIC=5981.674, Time=1.45 sec\n",
      " ARIMA(2,0,1)(0,0,0)[0]             : AIC=5982.905, Time=0.15 sec\n",
      "\n",
      "Best model:  ARIMA(2,0,1)(0,0,0)[0] intercept\n",
      "Total fit time: 6.976 seconds\n"
     ]
    },
    {
     "data": {
      "text/html": [
       "<table class=\"simpletable\">\n",
       "<caption>SARIMAX Results</caption>\n",
       "<tr>\n",
       "  <th>Dep. Variable:</th>           <td>y</td>        <th>  No. Observations:  </th>   <td>1575</td>   \n",
       "</tr>\n",
       "<tr>\n",
       "  <th>Model:</th>           <td>SARIMAX(2, 0, 1)</td> <th>  Log Likelihood     </th> <td>-2984.936</td>\n",
       "</tr>\n",
       "<tr>\n",
       "  <th>Date:</th>            <td>Thu, 29 Aug 2024</td> <th>  AIC                </th> <td>5979.872</td> \n",
       "</tr>\n",
       "<tr>\n",
       "  <th>Time:</th>                <td>16:45:58</td>     <th>  BIC                </th> <td>6006.682</td> \n",
       "</tr>\n",
       "<tr>\n",
       "  <th>Sample:</th>             <td>01-01-2013</td>    <th>  HQIC               </th> <td>5989.835</td> \n",
       "</tr>\n",
       "<tr>\n",
       "  <th></th>                   <td>- 04-24-2017</td>   <th>                     </th>     <td> </td>    \n",
       "</tr>\n",
       "<tr>\n",
       "  <th>Covariance Type:</th>        <td>opg</td>       <th>                     </th>     <td> </td>    \n",
       "</tr>\n",
       "</table>\n",
       "<table class=\"simpletable\">\n",
       "<tr>\n",
       "      <td></td>         <th>coef</th>     <th>std err</th>      <th>z</th>      <th>P>|z|</th>  <th>[0.025</th>    <th>0.975]</th>  \n",
       "</tr>\n",
       "<tr>\n",
       "  <th>intercept</th> <td>    0.0486</td> <td>    0.026</td> <td>    1.873</td> <td> 0.061</td> <td>   -0.002</td> <td>    0.099</td>\n",
       "</tr>\n",
       "<tr>\n",
       "  <th>ar.L1</th>     <td>    1.5797</td> <td>    0.048</td> <td>   33.157</td> <td> 0.000</td> <td>    1.486</td> <td>    1.673</td>\n",
       "</tr>\n",
       "<tr>\n",
       "  <th>ar.L2</th>     <td>   -0.5817</td> <td>    0.047</td> <td>  -12.335</td> <td> 0.000</td> <td>   -0.674</td> <td>   -0.489</td>\n",
       "</tr>\n",
       "<tr>\n",
       "  <th>ma.L1</th>     <td>   -0.7998</td> <td>    0.038</td> <td>  -20.972</td> <td> 0.000</td> <td>   -0.875</td> <td>   -0.725</td>\n",
       "</tr>\n",
       "<tr>\n",
       "  <th>sigma2</th>    <td>    2.5865</td> <td>    0.076</td> <td>   33.964</td> <td> 0.000</td> <td>    2.437</td> <td>    2.736</td>\n",
       "</tr>\n",
       "</table>\n",
       "<table class=\"simpletable\">\n",
       "<tr>\n",
       "  <th>Ljung-Box (L1) (Q):</th>     <td>0.05</td> <th>  Jarque-Bera (JB):  </th> <td>216.19</td>\n",
       "</tr>\n",
       "<tr>\n",
       "  <th>Prob(Q):</th>                <td>0.83</td> <th>  Prob(JB):          </th>  <td>0.00</td> \n",
       "</tr>\n",
       "<tr>\n",
       "  <th>Heteroskedasticity (H):</th> <td>0.92</td> <th>  Skew:              </th>  <td>-0.42</td>\n",
       "</tr>\n",
       "<tr>\n",
       "  <th>Prob(H) (two-sided):</th>    <td>0.31</td> <th>  Kurtosis:          </th>  <td>4.61</td> \n",
       "</tr>\n",
       "</table><br/><br/>Warnings:<br/>[1] Covariance matrix calculated using the outer product of gradients (complex-step)."
      ],
      "text/plain": [
       "<class 'statsmodels.iolib.summary.Summary'>\n",
       "\"\"\"\n",
       "                               SARIMAX Results                                \n",
       "==============================================================================\n",
       "Dep. Variable:                      y   No. Observations:                 1575\n",
       "Model:               SARIMAX(2, 0, 1)   Log Likelihood               -2984.936\n",
       "Date:                Thu, 29 Aug 2024   AIC                           5979.872\n",
       "Time:                        16:45:58   BIC                           6006.682\n",
       "Sample:                    01-01-2013   HQIC                          5989.835\n",
       "                         - 04-24-2017                                         \n",
       "Covariance Type:                  opg                                         \n",
       "==============================================================================\n",
       "                 coef    std err          z      P>|z|      [0.025      0.975]\n",
       "------------------------------------------------------------------------------\n",
       "intercept      0.0486      0.026      1.873      0.061      -0.002       0.099\n",
       "ar.L1          1.5797      0.048     33.157      0.000       1.486       1.673\n",
       "ar.L2         -0.5817      0.047    -12.335      0.000      -0.674      -0.489\n",
       "ma.L1         -0.7998      0.038    -20.972      0.000      -0.875      -0.725\n",
       "sigma2         2.5865      0.076     33.964      0.000       2.437       2.736\n",
       "===================================================================================\n",
       "Ljung-Box (L1) (Q):                   0.05   Jarque-Bera (JB):               216.19\n",
       "Prob(Q):                              0.83   Prob(JB):                         0.00\n",
       "Heteroskedasticity (H):               0.92   Skew:                            -0.42\n",
       "Prob(H) (two-sided):                  0.31   Kurtosis:                         4.61\n",
       "===================================================================================\n",
       "\n",
       "Warnings:\n",
       "[1] Covariance matrix calculated using the outer product of gradients (complex-step).\n",
       "\"\"\""
      ]
     },
     "execution_count": 13,
     "metadata": {},
     "output_type": "execute_result"
    }
   ],
   "source": [
    "#Figuring out the best order of p,d,q for the ARIMA model\n",
    "\n",
    "warnings.filterwarnings(\"ignore\")\n",
    "arima=auto_arima(data0['meantemp'], trace=True, suppress_warnings=True)\n",
    "arima.summary()"
   ]
  },
  {
   "cell_type": "code",
   "execution_count": 15,
   "id": "877b7a8b",
   "metadata": {},
   "outputs": [],
   "source": [
    "#creating training and testing sets\n",
    "\n",
    "train=data0.iloc[:len(x)-7,0]\n",
    "test=data0.iloc[len(x)-7:,0]\n"
   ]
  },
  {
   "cell_type": "code",
   "execution_count": 16,
   "id": "2089bc01",
   "metadata": {},
   "outputs": [
    {
     "data": {
      "text/html": [
       "<table class=\"simpletable\">\n",
       "<caption>SARIMAX Results</caption>\n",
       "<tr>\n",
       "  <th>Dep. Variable:</th>       <td>meantemp</td>     <th>  No. Observations:  </th>   <td>1568</td>   \n",
       "</tr>\n",
       "<tr>\n",
       "  <th>Model:</th>            <td>ARIMA(1, 1, 1)</td>  <th>  Log Likelihood     </th> <td>-2971.606</td>\n",
       "</tr>\n",
       "<tr>\n",
       "  <th>Date:</th>            <td>Thu, 29 Aug 2024</td> <th>  AIC                </th> <td>5949.213</td> \n",
       "</tr>\n",
       "<tr>\n",
       "  <th>Time:</th>                <td>16:46:28</td>     <th>  BIC                </th> <td>5965.284</td> \n",
       "</tr>\n",
       "<tr>\n",
       "  <th>Sample:</th>             <td>01-01-2013</td>    <th>  HQIC               </th> <td>5955.187</td> \n",
       "</tr>\n",
       "<tr>\n",
       "  <th></th>                   <td>- 04-17-2017</td>   <th>                     </th>     <td> </td>    \n",
       "</tr>\n",
       "<tr>\n",
       "  <th>Covariance Type:</th>        <td>opg</td>       <th>                     </th>     <td> </td>    \n",
       "</tr>\n",
       "</table>\n",
       "<table class=\"simpletable\">\n",
       "<tr>\n",
       "     <td></td>       <th>coef</th>     <th>std err</th>      <th>z</th>      <th>P>|z|</th>  <th>[0.025</th>    <th>0.975]</th>  \n",
       "</tr>\n",
       "<tr>\n",
       "  <th>ar.L1</th>  <td>    0.5873</td> <td>    0.045</td> <td>   13.081</td> <td> 0.000</td> <td>    0.499</td> <td>    0.675</td>\n",
       "</tr>\n",
       "<tr>\n",
       "  <th>ma.L1</th>  <td>   -0.8070</td> <td>    0.035</td> <td>  -22.837</td> <td> 0.000</td> <td>   -0.876</td> <td>   -0.738</td>\n",
       "</tr>\n",
       "<tr>\n",
       "  <th>sigma2</th> <td>    2.5979</td> <td>    0.071</td> <td>   36.659</td> <td> 0.000</td> <td>    2.459</td> <td>    2.737</td>\n",
       "</tr>\n",
       "</table>\n",
       "<table class=\"simpletable\">\n",
       "<tr>\n",
       "  <th>Ljung-Box (L1) (Q):</th>     <td>0.05</td> <th>  Jarque-Bera (JB):  </th> <td>237.27</td>\n",
       "</tr>\n",
       "<tr>\n",
       "  <th>Prob(Q):</th>                <td>0.83</td> <th>  Prob(JB):          </th>  <td>0.00</td> \n",
       "</tr>\n",
       "<tr>\n",
       "  <th>Heteroskedasticity (H):</th> <td>0.92</td> <th>  Skew:              </th>  <td>-0.43</td>\n",
       "</tr>\n",
       "<tr>\n",
       "  <th>Prob(H) (two-sided):</th>    <td>0.31</td> <th>  Kurtosis:          </th>  <td>4.70</td> \n",
       "</tr>\n",
       "</table><br/><br/>Warnings:<br/>[1] Covariance matrix calculated using the outer product of gradients (complex-step)."
      ],
      "text/plain": [
       "<class 'statsmodels.iolib.summary.Summary'>\n",
       "\"\"\"\n",
       "                               SARIMAX Results                                \n",
       "==============================================================================\n",
       "Dep. Variable:               meantemp   No. Observations:                 1568\n",
       "Model:                 ARIMA(1, 1, 1)   Log Likelihood               -2971.606\n",
       "Date:                Thu, 29 Aug 2024   AIC                           5949.213\n",
       "Time:                        16:46:28   BIC                           5965.284\n",
       "Sample:                    01-01-2013   HQIC                          5955.187\n",
       "                         - 04-17-2017                                         \n",
       "Covariance Type:                  opg                                         \n",
       "==============================================================================\n",
       "                 coef    std err          z      P>|z|      [0.025      0.975]\n",
       "------------------------------------------------------------------------------\n",
       "ar.L1          0.5873      0.045     13.081      0.000       0.499       0.675\n",
       "ma.L1         -0.8070      0.035    -22.837      0.000      -0.876      -0.738\n",
       "sigma2         2.5979      0.071     36.659      0.000       2.459       2.737\n",
       "===================================================================================\n",
       "Ljung-Box (L1) (Q):                   0.05   Jarque-Bera (JB):               237.27\n",
       "Prob(Q):                              0.83   Prob(JB):                         0.00\n",
       "Heteroskedasticity (H):               0.92   Skew:                            -0.43\n",
       "Prob(H) (two-sided):                  0.31   Kurtosis:                         4.70\n",
       "===================================================================================\n",
       "\n",
       "Warnings:\n",
       "[1] Covariance matrix calculated using the outer product of gradients (complex-step).\n",
       "\"\"\""
      ]
     },
     "execution_count": 16,
     "metadata": {},
     "output_type": "execute_result"
    }
   ],
   "source": [
    "#training the model with the recommended p,d,q =>(1,1,1)\n",
    "\n",
    "model=sm.tsa.arima.ARIMA(train,order=(1,1,1)).fit()\n",
    "model.summary()"
   ]
  },
  {
   "cell_type": "code",
   "execution_count": 18,
   "id": "3d34e2e0",
   "metadata": {},
   "outputs": [
    {
     "name": "stdout",
     "output_type": "stream",
     "text": [
      "2017-04-18    31.956774\n",
      "2017-04-19    31.605109\n",
      "2017-04-20    31.398575\n",
      "2017-04-21    31.277277\n",
      "2017-04-22    31.206038\n",
      "2017-04-23    31.164199\n",
      "2017-04-24    31.139627\n",
      "Freq: D, Name: predicted_mean, dtype: float64\n"
     ]
    },
    {
     "data": {
      "image/png": "[encoded data removed]",
      "text/plain": [
       "<Figure size 432x288 with 1 Axes>"
      ]
     },
     "metadata": {
      "needs_background": "light"
     },
     "output_type": "display_data"
    }
   ],
   "source": [
    "#predicting the temperature of the last week and plotting the original values against the forecasted values.\n",
    "\n",
    "prediction=model.predict(start=len(train),end=len(train)+len(test)-1,typ='levels')\n",
    "pyplot.plot(prediction, color ='red')\n",
    "pyplot.plot(test,color='green')\n",
    "print(prediction)\n"
   ]
  },
  {
   "cell_type": "code",
   "execution_count": 34,
   "id": "99368629",
   "metadata": {},
   "outputs": [
    {
     "name": "stdout",
     "output_type": "stream",
     "text": [
      "2.1632613121057997\n"
     ]
    }
   ],
   "source": [
    "#calculating the root sqared mean error and mean to analyze the accuracy of the model\n",
    "\n",
    "R=sqrt(mean_squared_error(test,prediction))\n",
    "print(R)\n"
   ]
  },
  {
   "cell_type": "code",
   "execution_count": 22,
   "id": "5a2753fa",
   "metadata": {},
   "outputs": [
    {
     "name": "stdout",
     "output_type": "stream",
     "text": [
      "9.593523125673691e-30\n",
      "0.005064231001719692\n",
      "0.0013757830979997442\n"
     ]
    }
   ],
   "source": [
    "#finding out the correlation between the humidty/ windspeed and mean temperature\n",
    "\n",
    "meantemp_diff=adfuller(data0['meantemp'].diff()[1:])\n",
    "print(meantemp_diff[1])\n",
    "humidity_diff=adfuller(data0['humidity'])\n",
    "print(humidity_diff[1])\n",
    "windspeed_diff=adfuller(data0['wind_speed'])\n",
    "print(windspeed_diff[1])"
   ]
  },
  {
   "cell_type": "code",
   "execution_count": 23,
   "id": "4483b576",
   "metadata": {},
   "outputs": [
    {
     "data": {
      "image/png": "[encoded data removed]",
      "text/plain": [
       "<Figure size 432x288 with 3 Axes>"
      ]
     },
     "metadata": {
      "needs_background": "light"
     },
     "output_type": "display_data"
    }
   ],
   "source": [
    "#plotting all subplots of dependant variables\n",
    "fig, axs=pyplot.subplots(nrows=3,ncols=1)\n",
    "for i, ax in enumerate(axs.flatten()):\n",
    "    tempdata=data0[data0.columns[i]]\n",
    "    ax.plot(tempdata)\n"
   ]
  },
  {
   "cell_type": "code",
   "execution_count": 25,
   "id": "b3a3d8a6",
   "metadata": {},
   "outputs": [],
   "source": [
    "#creating training and testing sets\n",
    "\n",
    "data2=data0[['meantemp','humidity','wind_speed']]\n",
    "train2=data2[:len(x)-7]\n",
    "test2=data2[len(x)-7:]"
   ]
  },
  {
   "cell_type": "code",
   "execution_count": 27,
   "id": "3abde2e0",
   "metadata": {},
   "outputs": [
    {
     "name": "stdout",
     "output_type": "stream",
     "text": [
      "\n",
      "Granger Causality\n",
      "number of lags (no zero) 1\n",
      "ssr based F test:         F=6.2286  , p=0.0127  , df_denom=1571, df_num=1\n",
      "ssr based chi2 test:   chi2=6.2405  , p=0.0125  , df=1\n",
      "likelihood ratio test: chi2=6.2282  , p=0.0126  , df=1\n",
      "parameter F test:         F=6.2286  , p=0.0127  , df_denom=1571, df_num=1\n",
      "\n",
      "Granger Causality\n",
      "number of lags (no zero) 1\n",
      "ssr based F test:         F=3.6814  , p=0.0552  , df_denom=1571, df_num=1\n",
      "ssr based chi2 test:   chi2=3.6885  , p=0.0548  , df=1\n",
      "likelihood ratio test: chi2=3.6842  , p=0.0549  , df=1\n",
      "parameter F test:         F=3.6814  , p=0.0552  , df_denom=1571, df_num=1\n",
      "\n",
      "Granger Causality\n",
      "number of lags (no zero) 2\n",
      "ssr based F test:         F=5.2319  , p=0.0054  , df_denom=1568, df_num=2\n",
      "ssr based chi2 test:   chi2=10.4971 , p=0.0053  , df=2\n",
      "likelihood ratio test: chi2=10.4622 , p=0.0053  , df=2\n",
      "parameter F test:         F=5.2319  , p=0.0054  , df_denom=1568, df_num=2\n",
      "\n",
      "Granger Causality\n",
      "number of lags (no zero) 3\n",
      "ssr based F test:         F=4.6733  , p=0.0030  , df_denom=1565, df_num=3\n",
      "ssr based chi2 test:   chi2=14.0825 , p=0.0028  , df=3\n",
      "likelihood ratio test: chi2=14.0198 , p=0.0029  , df=3\n",
      "parameter F test:         F=4.6733  , p=0.0030  , df_denom=1565, df_num=3\n",
      "\n",
      "Granger Causality\n",
      "number of lags (no zero) 4\n",
      "ssr based F test:         F=2.8619  , p=0.0223  , df_denom=1562, df_num=4\n",
      "ssr based chi2 test:   chi2=11.5137 , p=0.0214  , df=4\n",
      "likelihood ratio test: chi2=11.4717 , p=0.0217  , df=4\n",
      "parameter F test:         F=2.8619  , p=0.0223  , df_denom=1562, df_num=4\n",
      "\n",
      "Granger Causality\n",
      "number of lags (no zero) 5\n",
      "ssr based F test:         F=2.7839  , p=0.0164  , df_denom=1559, df_num=5\n",
      "ssr based chi2 test:   chi2=14.0177 , p=0.0155  , df=5\n",
      "likelihood ratio test: chi2=13.9555 , p=0.0159  , df=5\n",
      "parameter F test:         F=2.7839  , p=0.0164  , df_denom=1559, df_num=5\n",
      "\n",
      "Granger Causality\n",
      "number of lags (no zero) 6\n",
      "ssr based F test:         F=4.6496  , p=0.0001  , df_denom=1556, df_num=6\n",
      "ssr based chi2 test:   chi2=28.1306 , p=0.0001  , df=6\n",
      "likelihood ratio test: chi2=27.8814 , p=0.0001  , df=6\n",
      "parameter F test:         F=4.6496  , p=0.0001  , df_denom=1556, df_num=6\n"
     ]
    }
   ],
   "source": [
    "#finding out the best number of lags to consider\n",
    "\n",
    "g1=grangercausalitytests(data0[['meantemp','humidity']],1)\n",
    "g2=grangercausalitytests(data0[['meantemp','wind_speed']],6)\n"
   ]
  },
  {
   "cell_type": "code",
   "execution_count": 28,
   "id": "380c29d5",
   "metadata": {},
   "outputs": [
    {
     "name": "stdout",
     "output_type": "stream",
     "text": [
      " VAR Order Selection (* highlights the minimums)  \n",
      "==================================================\n",
      "       AIC         BIC         FPE         HQIC   \n",
      "--------------------------------------------------\n",
      "0        7.751       7.762       2325.       7.755\n",
      "1        7.594       7.635       1986.       7.609\n",
      "2        7.464       7.537       1745.       7.491\n",
      "3        7.371       7.475       1589.       7.410\n",
      "4        7.324      7.458*       1516.       7.374\n",
      "5        7.293       7.459       1470.       7.355\n",
      "6        7.280       7.477       1450.      7.353*\n",
      "7        7.270       7.498       1436.       7.355\n",
      "8        7.270       7.529       1437.       7.367\n",
      "9        7.262       7.552       1425.       7.370\n",
      "10       7.249       7.571       1407.       7.369\n",
      "11       7.248       7.600       1405.       7.379\n",
      "12       7.254       7.638       1414.       7.397\n",
      "13       7.260       7.674       1422.       7.414\n",
      "14       7.263       7.709       1427.       7.429\n",
      "15      7.247*       7.724      1404.*       7.424\n",
      "16       7.255       7.762       1415.       7.444\n",
      "17       7.259       7.797       1420.       7.459\n",
      "18       7.261       7.831       1423.       7.473\n",
      "19       7.256       7.857       1416.       7.479\n",
      "20       7.256       7.888       1417.       7.491\n",
      "--------------------------------------------------\n"
     ]
    }
   ],
   "source": [
    "#training the model\n",
    "\n",
    "model2=VAR(train2.diff()[1:])\n",
    "so=model2.select_order(maxlags=20)\n",
    "print(so.summary())\n"
   ]
  },
  {
   "cell_type": "code",
   "execution_count": 29,
   "id": "19288478",
   "metadata": {},
   "outputs": [
    {
     "name": "stdout",
     "output_type": "stream",
     "text": [
      "                                     Statespace Model Results                                     \n",
      "==================================================================================================\n",
      "Dep. Variable:     ['meantemp', 'humidity', 'wind_speed']   No. Observations:                 1568\n",
      "Model:                                             VAR(6)   Log Likelihood              -12271.007\n",
      "                                              + intercept   AIC                          24668.013\n",
      "Date:                                    Thu, 29 Aug 2024   BIC                          25005.539\n",
      "Time:                                            16:51:54   HQIC                         24793.475\n",
      "Sample:                                        01-01-2013                                         \n",
      "                                             - 04-17-2017                                         \n",
      "Covariance Type:                                      opg                                         \n",
      "========================================================================================\n",
      "Ljung-Box (L1) (Q):       0.00, 0.05, 0.01   Jarque-Bera (JB):   269.44, 259.60, 8390.99\n",
      "Prob(Q):                  0.96, 0.83, 0.92   Prob(JB):                  0.00, 0.00, 0.00\n",
      "Heteroskedasticity (H):   0.91, 0.83, 0.58   Skew:                    -0.46, -0.12, 1.89\n",
      "Prob(H) (two-sided):      0.30, 0.03, 0.00   Kurtosis:                 4.81, 4.98, 13.69\n",
      "                          Results for equation meantemp                          \n",
      "=================================================================================\n",
      "                    coef    std err          z      P>|z|      [0.025      0.975]\n",
      "---------------------------------------------------------------------------------\n",
      "intercept         0.2056      0.405      0.507      0.612      -0.589       1.000\n",
      "L1.meantemp       0.8339      0.030     28.231      0.000       0.776       0.892\n",
      "L1.humidity       0.0140      0.007      2.025      0.043       0.000       0.027\n",
      "L1.wind_speed    -0.0217      0.012     -1.759      0.079      -0.046       0.002\n",
      "L2.meantemp       0.0080      0.042      0.192      0.848      -0.074       0.089\n",
      "L2.humidity      -0.0176      0.010     -1.804      0.071      -0.037       0.002\n",
      "L2.wind_speed     0.0096      0.013      0.742      0.458      -0.016       0.035\n",
      "L3.meantemp      -0.0193      0.046     -0.415      0.678      -0.110       0.072\n",
      "L3.humidity       0.0038      0.010      0.374      0.708      -0.016       0.024\n",
      "L3.wind_speed     0.0166      0.013      1.235      0.217      -0.010       0.043\n",
      "L4.meantemp       0.0692      0.046      1.512      0.131      -0.021       0.159\n",
      "L4.humidity       0.0008      0.010      0.080      0.937      -0.019       0.020\n",
      "L4.wind_speed    -0.0011      0.013     -0.086      0.931      -0.026       0.024\n",
      "L5.meantemp       0.0466      0.045      1.030      0.303      -0.042       0.135\n",
      "L5.humidity       0.0050      0.010      0.528      0.597      -0.014       0.024\n",
      "L5.wind_speed     0.0041      0.013      0.320      0.749      -0.021       0.029\n",
      "L6.meantemp       0.0366      0.032      1.140      0.254      -0.026       0.099\n",
      "L6.humidity      -0.0041      0.007     -0.578      0.563      -0.018       0.010\n",
      "L6.wind_speed     0.0377      0.012      3.053      0.002       0.013       0.062\n",
      "                          Results for equation humidity                          \n",
      "=================================================================================\n",
      "                    coef    std err          z      P>|z|      [0.025      0.975]\n",
      "---------------------------------------------------------------------------------\n",
      "intercept         5.2375      1.888      2.774      0.006       1.536       8.939\n",
      "L1.meantemp       0.8273      0.159      5.202      0.000       0.516       1.139\n",
      "L1.humidity       0.9093      0.035     25.965      0.000       0.841       0.978\n",
      "L1.wind_speed     0.0467      0.053      0.873      0.382      -0.058       0.152\n",
      "L2.meantemp      -1.0327      0.223     -4.622      0.000      -1.471      -0.595\n",
      "L2.humidity      -0.1559      0.050     -3.139      0.002      -0.253      -0.059\n",
      "L2.wind_speed     0.0078      0.057      0.136      0.892      -0.104       0.120\n",
      "L3.meantemp       0.1827      0.232      0.787      0.431      -0.272       0.638\n",
      "L3.humidity       0.0071      0.049      0.146      0.884      -0.088       0.103\n",
      "L3.wind_speed    -0.0751      0.062     -1.203      0.229      -0.197       0.047\n",
      "L4.meantemp       0.1256      0.228      0.550      0.582      -0.322       0.573\n",
      "L4.humidity       0.0940      0.048      1.960      0.050   -7.98e-06       0.188\n",
      "L4.wind_speed     0.0866      0.064      1.349      0.177      -0.039       0.213\n",
      "L5.meantemp      -0.3254      0.231     -1.411      0.158      -0.777       0.127\n",
      "L5.humidity       0.0031      0.047      0.066      0.947      -0.089       0.095\n",
      "L5.wind_speed     0.0572      0.062      0.926      0.355      -0.064       0.178\n",
      "L6.meantemp       0.1485      0.169      0.879      0.379      -0.183       0.480\n",
      "L6.humidity       0.0856      0.034      2.494      0.013       0.018       0.153\n",
      "L6.wind_speed    -0.1139      0.055     -2.080      0.038      -0.221      -0.007\n",
      "                         Results for equation wind_speed                         \n",
      "=================================================================================\n",
      "                    coef    std err          z      P>|z|      [0.025      0.975]\n",
      "---------------------------------------------------------------------------------\n",
      "intercept         2.8259      1.066      2.651      0.008       0.737       4.915\n",
      "L1.meantemp      -0.0826      0.091     -0.904      0.366      -0.262       0.096\n",
      "L1.humidity      -0.0894      0.018     -4.850      0.000      -0.125      -0.053\n",
      "L1.wind_speed     0.3438      0.019     18.142      0.000       0.307       0.381\n",
      "L2.meantemp       0.3509      0.121      2.904      0.004       0.114       0.588\n",
      "L2.humidity       0.0796      0.025      3.168      0.002       0.030       0.129\n",
      "L2.wind_speed     0.0064      0.028      0.229      0.819      -0.049       0.062\n",
      "L3.meantemp      -0.0577      0.128     -0.452      0.651      -0.308       0.192\n",
      "L3.humidity       0.0002      0.025      0.007      0.994      -0.049       0.049\n",
      "L3.wind_speed     0.0344      0.030      1.129      0.259      -0.025       0.094\n",
      "L4.meantemp      -0.1954      0.130     -1.499      0.134      -0.451       0.060\n",
      "L4.humidity      -0.0227      0.027     -0.835      0.404      -0.076       0.031\n",
      "L4.wind_speed     0.0172      0.032      0.530      0.596      -0.046       0.081\n",
      "L5.meantemp       0.1791      0.140      1.276      0.202      -0.096       0.454\n",
      "L5.humidity       0.0299      0.029      1.037      0.300      -0.027       0.086\n",
      "L5.wind_speed     0.0344      0.033      1.030      0.303      -0.031       0.100\n",
      "L6.meantemp      -0.1341      0.099     -1.356      0.175      -0.328       0.060\n",
      "L6.humidity      -0.0098      0.022     -0.442      0.659      -0.053       0.034\n",
      "L6.wind_speed     0.0359      0.031      1.150      0.250      -0.025       0.097\n",
      "                                    Error covariance matrix                                     \n",
      "================================================================================================\n",
      "                                   coef    std err          z      P>|z|      [0.025      0.975]\n",
      "------------------------------------------------------------------------------------------------\n",
      "sqrt.var.meantemp                1.5969      0.025     63.334      0.000       1.547       1.646\n",
      "sqrt.cov.meantemp.humidity      -4.9221      0.150    -32.873      0.000      -5.216      -4.629\n",
      "sqrt.var.humidity                5.8808      0.089     65.959      0.000       5.706       6.056\n",
      "sqrt.cov.meantemp.wind_speed     0.4182      0.108      3.857      0.000       0.206       0.631\n",
      "sqrt.cov.humidity.wind_speed    -0.9698      0.099     -9.841      0.000      -1.163      -0.777\n",
      "sqrt.var.wind_speed              3.8045      0.043     87.963      0.000       3.720       3.889\n",
      "================================================================================================\n",
      "\n",
      "Warnings:\n",
      "[1] Covariance matrix calculated using the outer product of gradients (complex-step).\n"
     ]
    }
   ],
   "source": [
    "model2_1=VARMAX(train2,order=(6,0), enforce_stationarity=True)\n",
    "model2_2=model2_1.fit()\n",
    "print(model2_2.summary())\n"
   ]
  },
  {
   "cell_type": "code",
   "execution_count": 30,
   "id": "b73461f4",
   "metadata": {},
   "outputs": [],
   "source": [
    "#predicting\n",
    "\n",
    "forecast_no=7\n",
    "prediction2=model2_2.get_prediction(start=len(train2), end=len(train2)+forecast_no-1)\n",
    "prediction2_2=prediction2.predicted_mean\n",
    "prediction2_2.columns=['MeanTempPredicted','HumidityPredicted','WindSpeedPredicted']\n",
    "\n",
    "\n"
   ]
  },
  {
   "cell_type": "code",
   "execution_count": 31,
   "id": "f1c55d39",
   "metadata": {},
   "outputs": [
    {
     "data": {
      "text/plain": [
       "<AxesSubplot:>"
      ]
     },
     "execution_count": 31,
     "metadata": {},
     "output_type": "execute_result"
    },
    {
     "data": {
      "image/png": "[encoded data removed]",
      "text/plain": [
       "<Figure size 432x288 with 1 Axes>"
      ]
     },
     "metadata": {
      "needs_background": "light"
     },
     "output_type": "display_data"
    }
   ],
   "source": [
    "original_prediction=pd.concat([test2,prediction2_2], axis=1)\n",
    "original_prediction.plot()"
   ]
  },
  {
   "cell_type": "code",
   "execution_count": 33,
   "id": "b7c829d9",
   "metadata": {},
   "outputs": [
    {
     "name": "stdout",
     "output_type": "stream",
     "text": [
      "2.581832527300571\n"
     ]
    }
   ],
   "source": [
    "#Checking accuracy using root mean squared error\n",
    "\n",
    "R2=sqrt(mean_squared_error(prediction2_2['MeanTempPredicted'],test2['meantemp']))\n",
    "print(R2)\n"
   ]
  },
  {
   "cell_type": "code",
   "execution_count": null,
   "id": "df6224d7",
   "metadata": {},
   "outputs": [],
   "source": []
  }
 ],
 "metadata": {
  "kernelspec": {
   "display_name": "Python 3 (ipykernel)",
   "language": "python",
   "name": "python3"
  },
  "language_info": {
   "codemirror_mode": {
    "name": "ipython",
    "version": 3
   },
   "file_extension": ".py",
   "mimetype": "text/x-python",
   "name": "python",
   "nbconvert_exporter": "python",
   "pygments_lexer": "ipython3",
   "version": "3.9.12"
  }
 },
 "nbformat": 4,
 "nbformat_minor": 5
}
